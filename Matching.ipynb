{
  "cells": [
    {
      "cell_type": "markdown",
      "metadata": {},
      "source": [
        "# Matching"
      ]
    },
    {
      "cell_type": "code",
      "execution_count": null,
      "metadata": {},
      "outputs": [],
      "source": [
        "\n",
        "\n",
        "# Load the treatment dataset and the control dataset\n",
        "treatment_df = pd.read_csv('treatment_data.csv')\n",
        "control_df = pd.read_csv('control_data.csv')\n",
        "\n",
        "# Choose the variable X to match on\n",
        "x_var = 'x_variable_name'\n",
        "\n",
        "# Fit a nearest neighbor model to the control dataset based on X\n",
        "nn_model = NearestNeighbors(n_neighbors=1)\n",
        "nn_model.fit(control_df[x_var].values.reshape(-1,1))\n",
        "\n",
        "# For each treatment observation, find the closest control observation based on X\n",
        "distances, indices = nn_model.kneighbors(treatment_df[x_var].values.reshape(-1,1), n_neighbors=1)\n",
        "matched_control_df = control_df.iloc[indices.flatten()]\n",
        "\n",
        "# Add a column to the matched control dataset indicating the stratum assignment\n",
        "num_strata = 100\n",
        "matched_control_df['stratum'] = np.random.randint(1, num_strata+1, size=len(matched_control_df))\n",
        "\n",
        "# Merge the matched control dataset with the treatment dataset\n",
        "matched_df = pd.concat([treatment_df, matched_control_df], axis=1)\n",
        "\n",
        "# Remove the original indices from the matched dataframe\n",
        "matched_df.reset_index(drop=True, inplace=True)\n",
        "\n",
        "# Split the matched dataset into 100 strata\n",
        "strata_dfs = [matched_df[matched_df['stratum']==i] for i in range(1, num_strata+1)]\n"
      ]
    }
  ],
  "metadata": {
    "colab": {
      "provenance": []
    },
    "kernelspec": {
      "display_name": "Python 3.9.12 ('base')",
      "language": "python",
      "name": "python3"
    },
    "language_info": {
      "codemirror_mode": {
        "name": "ipython",
        "version": 3
      },
      "file_extension": ".py",
      "mimetype": "text/x-python",
      "name": "python",
      "nbconvert_exporter": "python",
      "pygments_lexer": "ipython3",
      "version": "3.9.12"
    },
    "vscode": {
      "interpreter": {
        "hash": "7d3e2280498d4d0bf5a6eb89edfba29687bb04994b150b07177e7fe6510e612b"
      }
    }
  },
  "nbformat": 4,
  "nbformat_minor": 0
}
