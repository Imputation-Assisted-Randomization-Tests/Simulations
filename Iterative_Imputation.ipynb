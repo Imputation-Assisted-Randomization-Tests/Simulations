{
  "cells": [
    {
      "cell_type": "markdown",
      "id": "37f3f2a5",
      "metadata": {
        "id": "37f3f2a5"
      },
      "source": [
        "Iterative Imputation and MissForest \n",
        "\n",
        "Iterative method with different regressors for missing data imputation\n",
        "- Sklearn - Iterative Imputation for Tables. https://scikit-learn.org/stable/modules/impute.html#iterative-imputer\n",
        "- MissForest - https://academic.oup.com/bioinformatics/article/28/1/112/219101\n"
      ]
    },
    {
      "cell_type": "markdown",
      "id": "8df29433",
      "metadata": {
        "id": "8df29433"
      },
      "source": [
        "## (1) Initial Setup"
      ]
    },
    {
      "cell_type": "code",
      "execution_count": 8,
      "id": "koc_huNCosmJ",
      "metadata": {
        "id": "koc_huNCosmJ"
      },
      "outputs": [],
      "source": [
        "import pandas as pd\n",
        "import numpy as np\n",
        "from sklearn.ensemble import RandomForestRegressor\n",
        "from sklearn.experimental import enable_iterative_imputer\n",
        "from sklearn.impute import IterativeImputer\n",
        "from sklearn.model_selection import train_test_split\n",
        "import random\n",
        "from sklearn.impute import KNNImputer\n",
        "from sklearn.metrics import r2_score\n",
        "from sklearn import linear_model"
      ]
    },
    {
      "cell_type": "markdown",
      "id": "-zMw-RIZawCL",
      "metadata": {
        "id": "-zMw-RIZawCL"
      },
      "source": [
        "### This part is for real data "
      ]
    },
    {
      "cell_type": "code",
      "execution_count": 9,
      "id": "de75ac85",
      "metadata": {
        "colab": {
          "base_uri": "https://localhost:8080/",
          "height": 442
        },
        "id": "de75ac85",
        "outputId": "f993f159-a7da-492a-c24a-db4ea0ef2c97",
        "scrolled": true
      },
      "outputs": [
        {
          "data": {
            "text/html": [
              "<div>\n",
              "<style scoped>\n",
              "    .dataframe tbody tr th:only-of-type {\n",
              "        vertical-align: middle;\n",
              "    }\n",
              "\n",
              "    .dataframe tbody tr th {\n",
              "        vertical-align: top;\n",
              "    }\n",
              "\n",
              "    .dataframe thead th {\n",
              "        text-align: right;\n",
              "    }\n",
              "</style>\n",
              "<table border=\"1\" class=\"dataframe\">\n",
              "  <thead>\n",
              "    <tr style=\"text-align: right;\">\n",
              "      <th></th>\n",
              "      <th>0</th>\n",
              "      <th>1</th>\n",
              "      <th>2</th>\n",
              "    </tr>\n",
              "  </thead>\n",
              "  <tbody>\n",
              "    <tr>\n",
              "      <th>0</th>\n",
              "      <td>48.232187</td>\n",
              "      <td>64.290355</td>\n",
              "      <td>249.989860</td>\n",
              "    </tr>\n",
              "    <tr>\n",
              "      <th>1</th>\n",
              "      <td>-12.442706</td>\n",
              "      <td>-7.083779</td>\n",
              "      <td>40.446066</td>\n",
              "    </tr>\n",
              "    <tr>\n",
              "      <th>2</th>\n",
              "      <td>8.363526</td>\n",
              "      <td>-1.712051</td>\n",
              "      <td>4.156605</td>\n",
              "    </tr>\n",
              "    <tr>\n",
              "      <th>3</th>\n",
              "      <td>19.191582</td>\n",
              "      <td>5.420550</td>\n",
              "      <td>1.553134</td>\n",
              "    </tr>\n",
              "    <tr>\n",
              "      <th>4</th>\n",
              "      <td>9.187136</td>\n",
              "      <td>-1.146317</td>\n",
              "      <td>2.446474</td>\n",
              "    </tr>\n",
              "    <tr>\n",
              "      <th>...</th>\n",
              "      <td>...</td>\n",
              "      <td>...</td>\n",
              "      <td>...</td>\n",
              "    </tr>\n",
              "    <tr>\n",
              "      <th>19995</th>\n",
              "      <td>2.400543</td>\n",
              "      <td>3.147297</td>\n",
              "      <td>2.128416</td>\n",
              "    </tr>\n",
              "    <tr>\n",
              "      <th>19996</th>\n",
              "      <td>28.342436</td>\n",
              "      <td>24.370663</td>\n",
              "      <td>60.225367</td>\n",
              "    </tr>\n",
              "    <tr>\n",
              "      <th>19997</th>\n",
              "      <td>33.910725</td>\n",
              "      <td>66.446965</td>\n",
              "      <td>255.272269</td>\n",
              "    </tr>\n",
              "    <tr>\n",
              "      <th>19998</th>\n",
              "      <td>50.144414</td>\n",
              "      <td>51.241442</td>\n",
              "      <td>172.876204</td>\n",
              "    </tr>\n",
              "    <tr>\n",
              "      <th>19999</th>\n",
              "      <td>-48.711665</td>\n",
              "      <td>-17.498720</td>\n",
              "      <td>74.854917</td>\n",
              "    </tr>\n",
              "  </tbody>\n",
              "</table>\n",
              "<p>20000 rows × 3 columns</p>\n",
              "</div>"
            ],
            "text/plain": [
              "               0          1           2\n",
              "0      48.232187  64.290355  249.989860\n",
              "1     -12.442706  -7.083779   40.446066\n",
              "2       8.363526  -1.712051    4.156605\n",
              "3      19.191582   5.420550    1.553134\n",
              "4       9.187136  -1.146317    2.446474\n",
              "...          ...        ...         ...\n",
              "19995   2.400543   3.147297    2.128416\n",
              "19996  28.342436  24.370663   60.225367\n",
              "19997  33.910725  66.446965  255.272269\n",
              "19998  50.144414  51.241442  172.876204\n",
              "19999 -48.711665 -17.498720   74.854917\n",
              "\n",
              "[20000 rows x 3 columns]"
            ]
          },
          "metadata": {},
          "output_type": "display_data"
        }
      ],
      "source": [
        "# Mount google drive so that any data could be accessed in this folder\n",
        "# Read the data,it is important to put the \"Research\" directory in ones own google drive\n",
        "X = np.load(\"/Users/jiaweizhang/research/data/X.npy\")\n",
        "Y = np.load(\"/Users/jiaweizhang/research/data/Y.npy\")\n",
        "Z = np.load(\"/Users/jiaweizhang/research/data/Z.npy\")\n",
        "U = np.load(\"/Users/jiaweizhang/research/data/U.npy\")\n",
        "M = np.load(\"/Users/jiaweizhang/research/data/M.npy\")\n",
        "\n",
        "#display(pd.DataFrame(X))\n",
        "display(pd.DataFrame(Y))\n",
        "#display(pd.DataFrame(Z))\n",
        "#display(pd.DataFrame(U))\n",
        "#display(pd.DataFrame(M))\n"
      ]
    },
    {
      "cell_type": "markdown",
      "id": "4933566d",
      "metadata": {
        "id": "4933566d"
      },
      "source": [
        "## (2) Data Processing\n",
        "- Simulation clinical data\n",
        "- Train test split\n",
        "- Data masking (to simulate missing values)"
      ]
    },
    {
      "cell_type": "markdown",
      "id": "k8LlwyAbRn4L",
      "metadata": {
        "id": "k8LlwyAbRn4L"
      },
      "source": [
        "### Data masking for Y train and Y test\n",
        "\n",
        "This code generates a new matrix Y_missing with the same dimensions as Y. For each value in Y, a random number is generated using random.random() and if it is below the missing_value_threshold (default 0.5), the corresponding value in Y_missing is set to \"nah\", otherwise it is set to the value from Y."
      ]
    },
    {
      "cell_type": "code",
      "execution_count": 7,
      "id": "Z92HnlYtRq65",
      "metadata": {
        "id": "Z92HnlYtRq65"
      },
      "outputs": [
        {
          "data": {
            "text/html": [
              "<div>\n",
              "<style scoped>\n",
              "    .dataframe tbody tr th:only-of-type {\n",
              "        vertical-align: middle;\n",
              "    }\n",
              "\n",
              "    .dataframe tbody tr th {\n",
              "        vertical-align: top;\n",
              "    }\n",
              "\n",
              "    .dataframe thead th {\n",
              "        text-align: right;\n",
              "    }\n",
              "</style>\n",
              "<table border=\"1\" class=\"dataframe\">\n",
              "  <thead>\n",
              "    <tr style=\"text-align: right;\">\n",
              "      <th></th>\n",
              "      <th>0</th>\n",
              "      <th>1</th>\n",
              "      <th>2</th>\n",
              "    </tr>\n",
              "  </thead>\n",
              "  <tbody>\n",
              "    <tr>\n",
              "      <th>0</th>\n",
              "      <td>-1.041859</td>\n",
              "      <td>NaN</td>\n",
              "      <td>NaN</td>\n",
              "    </tr>\n",
              "    <tr>\n",
              "      <th>1</th>\n",
              "      <td>17.707395</td>\n",
              "      <td>4.939858</td>\n",
              "      <td>1.46241</td>\n",
              "    </tr>\n",
              "    <tr>\n",
              "      <th>2</th>\n",
              "      <td>39.603196</td>\n",
              "      <td>85.183521</td>\n",
              "      <td>NaN</td>\n",
              "    </tr>\n",
              "    <tr>\n",
              "      <th>3</th>\n",
              "      <td>-1.099649</td>\n",
              "      <td>-5.068775</td>\n",
              "      <td>5.568457</td>\n",
              "    </tr>\n",
              "    <tr>\n",
              "      <th>4</th>\n",
              "      <td>3.934051</td>\n",
              "      <td>8.996238</td>\n",
              "      <td>8.846162</td>\n",
              "    </tr>\n",
              "    <tr>\n",
              "      <th>...</th>\n",
              "      <td>...</td>\n",
              "      <td>...</td>\n",
              "      <td>...</td>\n",
              "    </tr>\n",
              "    <tr>\n",
              "      <th>15995</th>\n",
              "      <td>0.521284</td>\n",
              "      <td>-2.319886</td>\n",
              "      <td>2.293248</td>\n",
              "    </tr>\n",
              "    <tr>\n",
              "      <th>15996</th>\n",
              "      <td>2.109003</td>\n",
              "      <td>NaN</td>\n",
              "      <td>20.19499</td>\n",
              "    </tr>\n",
              "    <tr>\n",
              "      <th>15997</th>\n",
              "      <td>14.893276</td>\n",
              "      <td>38.998803</td>\n",
              "      <td>116.564241</td>\n",
              "    </tr>\n",
              "    <tr>\n",
              "      <th>15998</th>\n",
              "      <td>-3.392623</td>\n",
              "      <td>-6.745171</td>\n",
              "      <td>27.081845</td>\n",
              "    </tr>\n",
              "    <tr>\n",
              "      <th>15999</th>\n",
              "      <td>6.523328</td>\n",
              "      <td>15.895946</td>\n",
              "      <td>25.762262</td>\n",
              "    </tr>\n",
              "  </tbody>\n",
              "</table>\n",
              "<p>16000 rows × 3 columns</p>\n",
              "</div>"
            ],
            "text/plain": [
              "               0          1           2\n",
              "0      -1.041859        NaN         NaN\n",
              "1      17.707395   4.939858     1.46241\n",
              "2      39.603196  85.183521         NaN\n",
              "3      -1.099649  -5.068775    5.568457\n",
              "4       3.934051   8.996238    8.846162\n",
              "...          ...        ...         ...\n",
              "15995   0.521284  -2.319886    2.293248\n",
              "15996   2.109003        NaN    20.19499\n",
              "15997  14.893276  38.998803  116.564241\n",
              "15998  -3.392623  -6.745171   27.081845\n",
              "15999   6.523328  15.895946   25.762262\n",
              "\n",
              "[16000 rows x 3 columns]"
            ]
          },
          "metadata": {},
          "output_type": "display_data"
        },
        {
          "data": {
            "text/html": [
              "<div>\n",
              "<style scoped>\n",
              "    .dataframe tbody tr th:only-of-type {\n",
              "        vertical-align: middle;\n",
              "    }\n",
              "\n",
              "    .dataframe tbody tr th {\n",
              "        vertical-align: top;\n",
              "    }\n",
              "\n",
              "    .dataframe thead th {\n",
              "        text-align: right;\n",
              "    }\n",
              "</style>\n",
              "<table border=\"1\" class=\"dataframe\">\n",
              "  <thead>\n",
              "    <tr style=\"text-align: right;\">\n",
              "      <th></th>\n",
              "      <th>0</th>\n",
              "      <th>1</th>\n",
              "      <th>2</th>\n",
              "    </tr>\n",
              "  </thead>\n",
              "  <tbody>\n",
              "    <tr>\n",
              "      <th>0</th>\n",
              "      <td>9.049006</td>\n",
              "      <td>-2.254202</td>\n",
              "      <td>3.318803</td>\n",
              "    </tr>\n",
              "    <tr>\n",
              "      <th>1</th>\n",
              "      <td>6.195936</td>\n",
              "      <td>NaN</td>\n",
              "      <td>NaN</td>\n",
              "    </tr>\n",
              "    <tr>\n",
              "      <th>2</th>\n",
              "      <td>-12.909524</td>\n",
              "      <td>NaN</td>\n",
              "      <td>32.401378</td>\n",
              "    </tr>\n",
              "    <tr>\n",
              "      <th>3</th>\n",
              "      <td>14.001708</td>\n",
              "      <td>38.280861</td>\n",
              "      <td>NaN</td>\n",
              "    </tr>\n",
              "    <tr>\n",
              "      <th>4</th>\n",
              "      <td>NaN</td>\n",
              "      <td>-1.04303</td>\n",
              "      <td>2.661235</td>\n",
              "    </tr>\n",
              "    <tr>\n",
              "      <th>...</th>\n",
              "      <td>...</td>\n",
              "      <td>...</td>\n",
              "      <td>...</td>\n",
              "    </tr>\n",
              "    <tr>\n",
              "      <th>3995</th>\n",
              "      <td>-32.33616</td>\n",
              "      <td>-12.087786</td>\n",
              "      <td>67.26905</td>\n",
              "    </tr>\n",
              "    <tr>\n",
              "      <th>3996</th>\n",
              "      <td>NaN</td>\n",
              "      <td>9.152145</td>\n",
              "      <td>6.511489</td>\n",
              "    </tr>\n",
              "    <tr>\n",
              "      <th>3997</th>\n",
              "      <td>9.665732</td>\n",
              "      <td>23.81599</td>\n",
              "      <td>43.406062</td>\n",
              "    </tr>\n",
              "    <tr>\n",
              "      <th>3998</th>\n",
              "      <td>-4.063137</td>\n",
              "      <td>-6.830574</td>\n",
              "      <td>12.54507</td>\n",
              "    </tr>\n",
              "    <tr>\n",
              "      <th>3999</th>\n",
              "      <td>69.450677</td>\n",
              "      <td>NaN</td>\n",
              "      <td>486.133675</td>\n",
              "    </tr>\n",
              "  </tbody>\n",
              "</table>\n",
              "<p>4000 rows × 3 columns</p>\n",
              "</div>"
            ],
            "text/plain": [
              "              0          1           2\n",
              "0      9.049006  -2.254202    3.318803\n",
              "1      6.195936        NaN         NaN\n",
              "2    -12.909524        NaN   32.401378\n",
              "3     14.001708  38.280861         NaN\n",
              "4           NaN   -1.04303    2.661235\n",
              "...         ...        ...         ...\n",
              "3995  -32.33616 -12.087786    67.26905\n",
              "3996        NaN   9.152145    6.511489\n",
              "3997   9.665732   23.81599   43.406062\n",
              "3998  -4.063137  -6.830574    12.54507\n",
              "3999  69.450677        NaN  486.133675\n",
              "\n",
              "[4000 rows x 3 columns]"
            ]
          },
          "metadata": {},
          "output_type": "display_data"
        }
      ],
      "source": [
        "# Hide 20% of the Y in the test set\n",
        "def replace_values(Y, missing_value_threshold=0.5):\n",
        "    Y_missing = np.zeros_like(Y, dtype=object)\n",
        "    n_samples, n_features = Y.shape\n",
        "    for i in range(n_samples):\n",
        "        for j in range(n_features):\n",
        "            if random.random() < missing_value_threshold:\n",
        "                Y_missing[i, j] = np.nan\n",
        "            else:\n",
        "                Y_missing[i, j] = Y[i, j]\n",
        "    return Y_missing\n",
        "·\n",
        "Y_train_missing = replace_values(Y_train, missing_value_threshold=0.2)\n",
        "Y_test_missing = replace_values(Y_test, missing_value_threshold=0.2)\n",
        "\n",
        "display(pd.DataFrame(Y_train_missing))\n",
        "display(pd.DataFrame(Y_test_missing))"
      ]
    },
    {
      "cell_type": "markdown",
      "id": "taEm9U6TUzQl",
      "metadata": {
        "id": "taEm9U6TUzQl"
      },
      "source": [
        "### Train test split"
      ]
    },
    {
      "cell_type": "code",
      "execution_count": 10,
      "id": "9f0ba43c",
      "metadata": {
        "id": "9f0ba43c",
        "scrolled": true
      },
      "outputs": [],
      "source": [
        "# Perform split to mask 50% of the data in target Y('AHD') \n",
        "X_train, X_test = train_test_split(X, test_size=0.2)\n",
        "Y_train, Y_test = train_test_split(Y, test_size=0.2)\n",
        "Z_train, Z_test = train_test_split(Z, test_size=0.2)\n"
      ]
    },
    {
      "cell_type": "markdown",
      "id": "E_a3aeRaa9b9",
      "metadata": {
        "id": "E_a3aeRaa9b9"
      },
      "source": [
        "###Create dataframe\n"
      ]
    },
    {
      "cell_type": "code",
      "execution_count": null,
      "id": "mX9soWAxbA3D",
      "metadata": {
        "colab": {
          "base_uri": "https://localhost:8080/"
        },
        "id": "mX9soWAxbA3D",
        "outputId": "84532d10-36ec-4d17-8ff3-d6871f8c240c"
      },
      "outputs": [],
      "source": [
        "# Concatenate X, Y, and Z horizontally\n",
        "XYZ_train = np.concatenate((X_train, Y_train_missing, Z_train), axis=1)\n",
        "XYZ_train_true = np.concatenate((X_train, Y_train, Z_train), axis=1)\n",
        "XYZ_test = np.concatenate((X_test, Y_test_missing, Z_test), axis=1)\n",
        "XYZ_test_true = np.concatenate((X_test, Y_test, Z_test), axis=1)\n",
        "df_train = pd.DataFrame(XYZ_train)\n",
        "df_train_true = pd.DataFrame(XYZ_train_true)\n",
        "df_test = pd.DataFrame(XYZ_test)\n",
        "df_test_true = pd.DataFrame(XYZ_test_true)\n",
        "print(df_train,df_train_true,df_test,df_test_true)\n"
      ]
    },
    {
      "cell_type": "markdown",
      "id": "z98ioGRkaeZM",
      "metadata": {
        "id": "z98ioGRkaeZM"
      },
      "source": [
        "## (3) Data Imputation"
      ]
    },
    {
      "cell_type": "markdown",
      "id": "32249ce6",
      "metadata": {
        "id": "32249ce6"
      },
      "source": [
        "### (i)  MissForest\n",
        "missForest is an algorithm for data imputation, which is the process of filling in missing values in a dataset. missForest is popular, and turns out to be a particular instance of different sequential imputation algorithms that can all be implemented with IterativeImputer by passing in different regressors to be used for predicting missing feature values. In the case of missForest, this regressor is a Random Forest. See Imputing missing values with variants of IterativeImputer.\n",
        "\n",
        "missForest is an implementation of the random forest algorithm for missing data imputation. The algorithm works by building an ensemble of decision trees to predict the missing values in a dataset. The idea behind the algorithm is that decision trees can be used to model the relationship between the variables in a dataset and can be used to predict missing values. The algorithm works by splitting the dataset into several smaller datasets, building decision trees on each of these smaller datasets, and combining the predictions from these decision trees to obtain a final imputed dataset.\n",
        "\n",
        "One of the advantages of using missForest is that it can handle missing values in both categorical and continuous variables. It also handles data with different missing patterns and can be used to impute multiple imputations at once. Additionally, missForest provides a measure of the imputation uncertainty, which is important for correctly interpreting the results of the imputed data. \n",
        "\n",
        "source - "
      ]
    },
    {
      "cell_type": "code",
      "execution_count": null,
      "id": "a0fcf90a",
      "metadata": {
        "colab": {
          "base_uri": "https://localhost:8080/",
          "height": 353
        },
        "id": "a0fcf90a",
        "outputId": "a474173f-fd7e-433e-cccc-06a2a41e675c"
      },
      "outputs": [],
      "source": [
        "missForest = IterativeImputer(estimator = RandomForestRegressor(), random_state=0)\n",
        "missForest.fit(df_train)\n",
        "display(pd.DataFrame(missForest.transform(df_train)))"
      ]
    },
    {
      "cell_type": "markdown",
      "id": "e5ece772",
      "metadata": {
        "id": "e5ece772"
      },
      "source": [
        "___\n",
        "### (ii) KNN Imputation\n",
        "The basic idea behind KNN for imputation is to replace missing values with the average of the k-nearest neighbors in the feature space. The value of k is determined by the user and can be set using cross-validation. KNN imputation is considered a simple and effective method for imputing missing data, particularly for small amounts of missing values. However, for larger amounts of missing data or for data with a large number of features, more advanced imputation methods may be needed.\n",
        "\n",
        "Source - https://scikit-learn.org/stable/modules/generated/sklearn.impute.KNNImputer.html#sklearn.impute.KNNImputer"
      ]
    },
    {
      "cell_type": "code",
      "execution_count": null,
      "id": "90928f89",
      "metadata": {
        "colab": {
          "base_uri": "https://localhost:8080/",
          "height": 488
        },
        "id": "90928f89",
        "outputId": "89d20be5-df35-471c-e2be-e5c186851754",
        "scrolled": true
      },
      "outputs": [],
      "source": [
        "KNNimputer = KNNImputer(n_neighbors=15)\n",
        "KNNimputer.fit(df_train)\n",
        "display(pd.DataFrame(KNNimputer.transform(df_train)))"
      ]
    },
    {
      "cell_type": "markdown",
      "id": "nMB5gXeWM9n4",
      "metadata": {
        "id": "nMB5gXeWM9n4"
      },
      "source": [
        "### (ii) BayesianRidge Imputation\n",
        "The BayesianRidge model tries to estimate the coefficients of a linear regression model that best fit the data, taking into account prior knowledge about the coefficients. For data imputation, the missing values are treated as if they are unknown coefficients and are estimated along with the other coefficients during the model fitting process. BayesianRidge can be a good choice for imputation when the relationship between the features is well approximated by a linear model. However, it may not perform well for data sets with more complex relationships between the features.\n",
        "\n",
        "Source - https://scikit-learn.org/stable/modules/generated/sklearn.linear_model.BayesianRidge.html#sklearn.linear_model.BayesianRidge"
      ]
    },
    {
      "cell_type": "code",
      "execution_count": null,
      "id": "FaMEPH7LM2Wh",
      "metadata": {
        "colab": {
          "base_uri": "https://localhost:8080/",
          "height": 488
        },
        "id": "FaMEPH7LM2Wh",
        "outputId": "8b0928b6-9699-4ca5-89c4-80b2d17f7657"
      },
      "outputs": [],
      "source": [
        "BayesianImputer = IterativeImputer(estimator = linear_model.BayesianRidge(), random_state=0)\n",
        "BayesianImputer.fit(df_train)\n",
        "display(pd.DataFrame(BayesianImputer.transform(df_train)))"
      ]
    },
    {
      "cell_type": "markdown",
      "id": "-YIKuwTAPjz9",
      "metadata": {
        "id": "-YIKuwTAPjz9"
      },
      "source": [
        "### Analysis of the result\n",
        "\n",
        "The coefficient of determination $R^2$ is defined as $1 - \\frac{u}{v}$, where $u$ is the residual sum of squares $(((y_{true} - y_{pred}))^2).sum()$ and $v$ is the total sum of squares $((y_{true} - \\overline{y_{true}})^2).sum()$. The best possible score is 1.0 and it can be negative (because the model can be arbitrarily worse). A constant model that always predicts the expected value of $y$, disregarding the input features, would get a $R^2$ score of 0.0."
      ]
    },
    {
      "cell_type": "code",
      "execution_count": null,
      "id": "UD-vEDCsPjmr",
      "metadata": {
        "colab": {
          "base_uri": "https://localhost:8080/"
        },
        "id": "UD-vEDCsPjmr",
        "outputId": "6f0c62a1-ab36-4407-8293-ebc9d9da836c"
      },
      "outputs": [],
      "source": [
        "#print(missForest.score(df_test,df_test_true))\n",
        "def getY(df_pred,df_missing,df_true):\n",
        "  Y_pred = []\n",
        "  Y_true = []\n",
        "  m,n = df_pred.shape\n",
        "  print(df_pred.shape,df_missing.shape,df_true.shape,m,n)\n",
        "  for i in range(m):\n",
        "    for j in range(n):\n",
        "      if pd.isna(df_missing.loc[i,j]):\n",
        "        Y_pred.append(df_pred[i][j])\n",
        "        Y_true.append(df_true.loc[i,j])\n",
        "  return Y_true,Y_pred\n",
        "\n",
        "#missForest.score(df_test,df_test_true))\n",
        "#Y_true, Y_pred = getY(missForest.transform(df_test),df_test,df_test_true)\n",
        "#r2 = r2_score(Y_true, Y_pred)\n",
        "#print(r2)\n",
        "#KNNimputer.score(df_test,df_test_true))\n",
        "Y_true, Y_pred = getY(KNNimputer.transform(df_train),df_train,df_train_true)\n",
        "r2 = r2_score(Y_true, Y_pred)\n",
        "print(r2)\n",
        "#BayesianImputer.score(df_test,df_test_true))\n",
        "Y_true, Y_pred = getY(BayesianImputer.transform(df_train),df_train,df_train_true)\n",
        "r2 = r2_score(Y_true, Y_pred)\n",
        "print(r2)"
      ]
    },
    {
      "cell_type": "code",
      "execution_count": null,
      "id": "8ygTXD5T1ELz",
      "metadata": {
        "colab": {
          "base_uri": "https://localhost:8080/"
        },
        "id": "8ygTXD5T1ELz",
        "outputId": "a19fa5ad-d125-4e72-d07d-c341d42a3dde"
      },
      "outputs": [],
      "source": [
        "Y_true, Y_pred = getY(KNNimputer.transform(df_test),df_test,df_test_true)\n",
        "r2 = r2_score(Y_true, Y_pred)\n",
        "print(r2)\n",
        "#BayesianImputer.score(df_test,df_test_true))\n",
        "Y_true, Y_pred = getY(BayesianImputer.transform(df_test),df_test,df_test_true)\n",
        "r2 = r2_score(Y_true, Y_pred)\n",
        "print(r2)"
      ]
    }
  ],
  "metadata": {
    "colab": {
      "provenance": []
    },
    "kernelspec": {
      "display_name": "Python 3.9.12 ('base')",
      "language": "python",
      "name": "python3"
    },
    "language_info": {
      "codemirror_mode": {
        "name": "ipython",
        "version": 3
      },
      "file_extension": ".py",
      "mimetype": "text/x-python",
      "name": "python",
      "nbconvert_exporter": "python",
      "pygments_lexer": "ipython3",
      "version": "3.9.12"
    },
    "vscode": {
      "interpreter": {
        "hash": "7d3e2280498d4d0bf5a6eb89edfba29687bb04994b150b07177e7fe6510e612b"
      }
    }
  },
  "nbformat": 4,
  "nbformat_minor": 5
}
